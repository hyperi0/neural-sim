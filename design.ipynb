{
 "cells": [
  {
   "cell_type": "markdown",
   "metadata": {},
   "source": [
    "# Simple neuron simulation"
   ]
  },
  {
   "cell_type": "markdown",
   "metadata": {},
   "source": [
    "## Neurons\n",
    "- Attributes\n",
    "    - Outgoing connections\n",
    "    - Resting potential\n",
    "    - Action threshold\n",
    "    - Number of excitatory transmitters\n",
    "    - Number of inhibitory transmitters\n",
    "- Methods\n",
    "    - Fire\n",
    "    - Receive transmitters\n",
    "    - Reuptake transmitters\n",
    "    - Create transmitters"
   ]
  },
  {
   "cell_type": "markdown",
   "metadata": {},
   "source": [
    "## Control\n",
    "- Update\n",
    "    - Go through each neuron and fire if threshold reached\n",
    "    - Reuptake recently fired neurons\n",
    "- Render\n",
    "    - Display graph of connected neurons\n",
    "    - Display current transmitter positions"
   ]
  }
 ],
 "metadata": {
  "language_info": {
   "name": "python"
  }
 },
 "nbformat": 4,
 "nbformat_minor": 2
}
