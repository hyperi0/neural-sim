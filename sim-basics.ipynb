{
 "cells": [
  {
   "cell_type": "markdown",
   "metadata": {},
   "source": [
    "# TODO\n",
    "- Neuron\n",
    "    - Store held and owned transmitters seperately\n",
    "    - Fire\n",
    "    - Reuptake\n",
    "    - Modify connection\n",
    "- Transmitter\n",
    "    - Make transmitters with certain parameter set by name\n",
    "- Brain\n",
    "    - Go through neurons to update\n",
    "        - Fire\n",
    "        - Reuptake\n",
    "        - Update transmitter durations\n",
    "    - Render current brain state\n",
    "        - Show graph of neurons\n",
    "        - Show current transmitter positions\n",
    "        - Show current potentials of neurons\n",
    "    - Animate brain steps over time\n",
    "- Learning\n",
    "    - Learn how learning actually works in the brain"
   ]
  },
  {
   "cell_type": "code",
   "execution_count": 1,
   "metadata": {},
   "outputs": [],
   "source": [
    "class Neuron():\n",
    "    def __init__(\n",
    "        self,\n",
    "        connections,\n",
    "        resting_potential,\n",
    "        action_threshold,\n",
    "        transmitters\n",
    "    ):\n",
    "        self.connections = connections\n",
    "        self.resting_potential = resting_potential\n",
    "        self.action_threshold = action_threshold\n",
    "        self.transmitters = transmitters"
   ]
  },
  {
   "cell_type": "code",
   "execution_count": 2,
   "metadata": {},
   "outputs": [],
   "source": [
    "class Transmitter():\n",
    "    def __init__(\n",
    "        self,\n",
    "        name,\n",
    "        potential,\n",
    "        duration,\n",
    "        remaining_duration\n",
    "    ):\n",
    "        self.name = name\n",
    "        self.potential = potential\n",
    "        self.duration = duration\n",
    "        self.remaining_duration = remaining_duration\n",
    "\n",
    "    # update remaining duration and return True if still active\n",
    "    def update(self):\n",
    "        self.remaining_duration -= 1\n",
    "        if self.remaining_duration == 0:\n",
    "            self.reset()\n",
    "            return False\n",
    "        return True\n",
    "\n",
    "    def reset(self):\n",
    "        self.remaining_duration = self.duration"
   ]
  },
  {
   "cell_type": "code",
   "execution_count": null,
   "metadata": {},
   "outputs": [],
   "source": [
    "class Brain():\n",
    "    def __init__(\n",
    "        self,\n",
    "        neurons\n",
    "    ):\n",
    "        self.neurons = neurons\n",
    "    \n",
    "    def update(self):\n",
    "        for neuron in self.neurons:\n",
    "            transmitter_potential = sum([transmitter.potential for transmitter in neuron.transmitters])\n",
    "            potential = self.resting_potential + transmitter_potential\n",
    "            if potential > neuron.action_threshold:\n",
    "                "
   ]
  }
 ],
 "metadata": {
  "kernelspec": {
   "display_name": "Python 3",
   "language": "python",
   "name": "python3"
  },
  "language_info": {
   "codemirror_mode": {
    "name": "ipython",
    "version": 3
   },
   "file_extension": ".py",
   "mimetype": "text/x-python",
   "name": "python",
   "nbconvert_exporter": "python",
   "pygments_lexer": "ipython3",
   "version": "3.10.6"
  }
 },
 "nbformat": 4,
 "nbformat_minor": 2
}
